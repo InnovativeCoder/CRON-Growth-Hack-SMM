{
 "metadata": {
  "language_info": {
   "codemirror_mode": {
    "name": "ipython",
    "version": 3
   },
   "file_extension": ".py",
   "mimetype": "text/x-python",
   "name": "python",
   "nbconvert_exporter": "python",
   "pygments_lexer": "ipython3",
   "version": "3.7.4-final"
  },
  "orig_nbformat": 2,
  "kernelspec": {
   "name": "python3",
   "display_name": "Python 3"
  }
 },
 "nbformat": 4,
 "nbformat_minor": 2,
 "cells": [
  {
   "cell_type": "code",
   "execution_count": 1,
   "metadata": {},
   "outputs": [
    {
     "output_type": "stream",
     "name": "stdout",
     "text": [
      "359\n          +65 8431 1501\n0     +1 (226) 224-9570\n1     +1 (289) 894-0695\n2     +1 (514) 577-1786\n3     +1 (702) 527-2316\n4     +1 (720) 361-6500\n..                  ...\n354   +234 803 419 0977\n355    +237 672 74 1887\n356   +237 674 03 62 34\n357  +237 6 76 64 92 77\n358   +237 698 49 52 10\n\n[359 rows x 1 columns]\n"
     ]
    }
   ],
   "source": [
    "import pandas as pd\n",
    "data = pd.read_csv(\"./Number.csv\")\n",
    "print(data.size)\n",
    "print(data)\n",
    "newList = []"
   ]
  },
  {
   "cell_type": "code",
   "execution_count": 2,
   "metadata": {
    "tags": []
   },
   "outputs": [
    {
     "output_type": "stream",
     "name": "stdout",
     "text": [
      "added\nadded\nadded\nadded\nadded\nadded\nadded\nadded\nadded\nadded\nadded\nadded\nadded\nadded\nadded\nadded\nadded\nadded\nadded\nadded\nadded\nadded\nadded\nadded\nadded\nadded\nadded\nadded\nadded\nadded\nadded\nadded\nadded\nadded\nadded\nadded\nadded\nadded\nadded\nadded\nadded\nadded\nadded\nadded\nadded\nadded\nadded\nadded\nadded\nadded\nadded\nadded\nadded\nadded\nadded\nadded\nadded\nadded\nadded\nadded\nadded\nadded\nadded\nadded\nadded\nadded\nadded\nadded\nadded\nadded\nadded\nadded\nadded\nadded\nadded\nadded\nadded\nadded\nadded\nadded\nadded\nadded\nadded\nadded\nadded\nadded\nadded\nadded\nadded\nadded\nadded\nadded\nadded\nadded\nadded\nadded\n"
     ]
    }
   ],
   "source": [
    "for i in range(0,data.size):\n",
    "    if(data.iloc[i,0].startswith(\"+91\")):\n",
    "        print(\"added\")\n",
    "        newList.append(data.iloc[i,0])"
   ]
  },
  {
   "cell_type": "code",
   "execution_count": 13,
   "metadata": {},
   "outputs": [],
   "source": [
    "with open('sanitized_no.txt', 'w') as f:\n",
    "    for item in newList:\n",
    "        f.write(\"%s\\n\" % item)"
   ]
  },
  {
   "cell_type": "code",
   "execution_count": null,
   "metadata": {},
   "outputs": [],
   "source": []
  }
 ]
}